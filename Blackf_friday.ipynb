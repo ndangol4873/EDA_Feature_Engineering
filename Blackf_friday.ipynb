{
 "cells": [
  {
   "cell_type": "markdown",
   "id": "3909db44-b075-4a96-b9e8-2edbcd10e41b",
   "metadata": {},
   "source": [
    "## Black Friday Data set"
   ]
  },
  {
   "cell_type": "markdown",
   "id": "9af32b44-7d27-4069-ba58-adcad1611087",
   "metadata": {},
   "source": [
    "### Cleaning and Preparing the Data for model Training "
   ]
  },
  {
   "cell_type": "code",
   "execution_count": 1,
   "id": "e300dfb3-74cc-4f31-b246-f85561676c10",
   "metadata": {
    "tags": []
   },
   "outputs": [],
   "source": [
    "import os\n",
    "import glob\n",
    "import pandas as pd\n",
    "import numpy as np\n",
    "import matplotlib.pyplot as plt\n",
    "import seaborn as sns\n",
    "%matplotlib inline\n"
   ]
  },
  {
   "cell_type": "code",
   "execution_count": 2,
   "id": "9cf13889-04ea-4314-9db2-18d342e759da",
   "metadata": {},
   "outputs": [
    {
     "data": {
      "text/plain": [
       "'C:/Users/mayal/Desktop/Data_Science/Git_folders/EDA_Feature_Engineering'"
      ]
     },
     "execution_count": 2,
     "metadata": {},
     "output_type": "execute_result"
    }
   ],
   "source": [
    "path_reformate = lambda x : x.replace(\"\\\\\", \"/\")\n",
    "\n",
    "current_dir = os.getcwd()\n",
    "current_dir = path_reformate(current_dir)\n",
    "current_dir"
   ]
  },
  {
   "cell_type": "code",
   "execution_count": 3,
   "id": "4867684e-bea7-469d-bf47-c2bf85990168",
   "metadata": {
    "tags": []
   },
   "outputs": [],
   "source": [
    "dataset_path = 'C:/Users/mayal/Desktop/Data_Science/data_sets/Black_friday//*.csv'\n",
    "\n",
    "def dataframe(folder_path):\n",
    "    df = {}\n",
    "    for file in glob.glob(folder_path):\n",
    "        file = file.replace(\"\\\\\", \"/\")\n",
    "        df_name = file.split(\"/\")[-1].split(\".\")[0]\n",
    "        df[df_name]=pd.read_csv(file)\n",
    "        # print(f\"df_{df_name}\", end=\",\")\n",
    "  \n",
    "    return df\n",
    "\n",
    "   \n",
    "df_test,df_train = dataframe(dataset_path).values()"
   ]
  },
  {
   "cell_type": "code",
   "execution_count": 4,
   "id": "33e21817-4c1a-4597-bccb-b78d55c3d8a7",
   "metadata": {
    "tags": []
   },
   "outputs": [
    {
     "data": {
      "text/plain": [
       "(233599, 11)"
      ]
     },
     "execution_count": 4,
     "metadata": {},
     "output_type": "execute_result"
    }
   ],
   "source": [
    "df_test.shape"
   ]
  },
  {
   "cell_type": "code",
   "execution_count": null,
   "id": "58088459-aee7-4079-a19b-f1cfb7dcc858",
   "metadata": {},
   "outputs": [],
   "source": []
  }
 ],
 "metadata": {
  "kernelspec": {
   "display_name": "Python 3 (ipykernel)",
   "language": "python",
   "name": "python3"
  },
  "language_info": {
   "codemirror_mode": {
    "name": "ipython",
    "version": 3
   },
   "file_extension": ".py",
   "mimetype": "text/x-python",
   "name": "python",
   "nbconvert_exporter": "python",
   "pygments_lexer": "ipython3",
   "version": "3.11.4"
  }
 },
 "nbformat": 4,
 "nbformat_minor": 5
}
