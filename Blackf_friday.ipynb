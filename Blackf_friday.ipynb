{
 "cells": [
  {
   "cell_type": "markdown",
   "id": "3909db44-b075-4a96-b9e8-2edbcd10e41b",
   "metadata": {},
   "source": [
    "# Black Friday Data set"
   ]
  },
  {
   "cell_type": "markdown",
   "id": "9af32b44-7d27-4069-ba58-adcad1611087",
   "metadata": {},
   "source": [
    "## Cleaning and Preparing the Data for model Training "
   ]
  },
  {
   "cell_type": "code",
   "execution_count": 1,
   "id": "e300dfb3-74cc-4f31-b246-f85561676c10",
   "metadata": {
    "tags": []
   },
   "outputs": [],
   "source": [
    "import os\n",
    "import glob\n",
    "import pandas as pd\n",
    "import numpy as np\n",
    "import matplotlib.pyplot as plt\n",
    "import seaborn as sns\n",
    "%matplotlib inline\n",
    "\n",
    "import warnings"
   ]
  },
  {
   "cell_type": "code",
   "execution_count": 2,
   "id": "ceadd5d0-44fd-4301-b13a-ec93bc2c93b4",
   "metadata": {
    "tags": []
   },
   "outputs": [],
   "source": [
    "warnings.filterwarnings(action='ignore')"
   ]
  },
  {
   "cell_type": "markdown",
   "id": "747c84bb-874a-4387-a24b-289d1bac02c7",
   "metadata": {},
   "source": [
    "## Reformating the folder path"
   ]
  },
  {
   "cell_type": "code",
   "execution_count": 3,
   "id": "9cf13889-04ea-4314-9db2-18d342e759da",
   "metadata": {},
   "outputs": [
    {
     "data": {
      "text/plain": [
       "'C:/Users/mayal/Desktop/Data_Science/Git_folders/EDA_Feature_Engineering'"
      ]
     },
     "execution_count": 3,
     "metadata": {},
     "output_type": "execute_result"
    }
   ],
   "source": [
    "## Reformating the folder path\n",
    "\n",
    "path_reformate = lambda x : x.replace(\"\\\\\", \"/\")\n",
    "\n",
    "current_dir = os.getcwd()\n",
    "current_dir = path_reformate(current_dir)\n",
    "current_dir"
   ]
  },
  {
   "cell_type": "code",
   "execution_count": null,
   "id": "f2715791-bef3-4253-9eba-f4131846af27",
   "metadata": {},
   "outputs": [],
   "source": []
  },
  {
   "cell_type": "markdown",
   "id": "aebdeaed-cf08-4e4a-a095-7cd18b7e297e",
   "metadata": {},
   "source": [
    "## Loading the Data frames"
   ]
  },
  {
   "cell_type": "code",
   "execution_count": 4,
   "id": "4867684e-bea7-469d-bf47-c2bf85990168",
   "metadata": {
    "tags": []
   },
   "outputs": [],
   "source": [
    "dataset_path = 'C:/Users/mayal/Desktop/Data_Science/data_sets/Black_friday//*.csv'\n",
    "\n",
    "def dataframe(folder_path):\n",
    "    df = {}\n",
    "    for file in glob.glob(folder_path):\n",
    "        file = file.replace(\"\\\\\", \"/\")\n",
    "        df_name = file.split(\"/\")[-1].split(\".\")[0]\n",
    "        df[df_name]=pd.read_csv(file)\n",
    "        # print(f\"df_{df_name}\", end=\",\")\n",
    "  \n",
    "    return df\n",
    "\n",
    "   \n",
    "df_test,df_train = dataframe(dataset_path).values()"
   ]
  },
  {
   "cell_type": "code",
   "execution_count": 5,
   "id": "33e21817-4c1a-4597-bccb-b78d55c3d8a7",
   "metadata": {
    "tags": []
   },
   "outputs": [
    {
     "data": {
      "text/html": [
       "<div>\n",
       "<style scoped>\n",
       "    .dataframe tbody tr th:only-of-type {\n",
       "        vertical-align: middle;\n",
       "    }\n",
       "\n",
       "    .dataframe tbody tr th {\n",
       "        vertical-align: top;\n",
       "    }\n",
       "\n",
       "    .dataframe thead th {\n",
       "        text-align: right;\n",
       "    }\n",
       "</style>\n",
       "<table border=\"1\" class=\"dataframe\">\n",
       "  <thead>\n",
       "    <tr style=\"text-align: right;\">\n",
       "      <th></th>\n",
       "      <th>User_ID</th>\n",
       "      <th>Product_ID</th>\n",
       "      <th>Gender</th>\n",
       "      <th>Age</th>\n",
       "      <th>Occupation</th>\n",
       "      <th>City_Category</th>\n",
       "      <th>Stay_In_Current_City_Years</th>\n",
       "      <th>Marital_Status</th>\n",
       "      <th>Product_Category_1</th>\n",
       "      <th>Product_Category_2</th>\n",
       "      <th>Product_Category_3</th>\n",
       "      <th>Purchase</th>\n",
       "    </tr>\n",
       "  </thead>\n",
       "  <tbody>\n",
       "    <tr>\n",
       "      <th>0</th>\n",
       "      <td>1000001</td>\n",
       "      <td>P00069042</td>\n",
       "      <td>F</td>\n",
       "      <td>0-17</td>\n",
       "      <td>10</td>\n",
       "      <td>A</td>\n",
       "      <td>2</td>\n",
       "      <td>0</td>\n",
       "      <td>3</td>\n",
       "      <td>NaN</td>\n",
       "      <td>NaN</td>\n",
       "      <td>8370</td>\n",
       "    </tr>\n",
       "    <tr>\n",
       "      <th>1</th>\n",
       "      <td>1000001</td>\n",
       "      <td>P00248942</td>\n",
       "      <td>F</td>\n",
       "      <td>0-17</td>\n",
       "      <td>10</td>\n",
       "      <td>A</td>\n",
       "      <td>2</td>\n",
       "      <td>0</td>\n",
       "      <td>1</td>\n",
       "      <td>6.0</td>\n",
       "      <td>14.0</td>\n",
       "      <td>15200</td>\n",
       "    </tr>\n",
       "  </tbody>\n",
       "</table>\n",
       "</div>"
      ],
      "text/plain": [
       "   User_ID Product_ID Gender   Age  Occupation City_Category  \\\n",
       "0  1000001  P00069042      F  0-17          10             A   \n",
       "1  1000001  P00248942      F  0-17          10             A   \n",
       "\n",
       "  Stay_In_Current_City_Years  Marital_Status  Product_Category_1  \\\n",
       "0                          2               0                   3   \n",
       "1                          2               0                   1   \n",
       "\n",
       "   Product_Category_2  Product_Category_3  Purchase  \n",
       "0                 NaN                 NaN      8370  \n",
       "1                 6.0                14.0     15200  "
      ]
     },
     "execution_count": 5,
     "metadata": {},
     "output_type": "execute_result"
    }
   ],
   "source": [
    "df_train.head(2)"
   ]
  },
  {
   "cell_type": "code",
   "execution_count": 6,
   "id": "58088459-aee7-4079-a19b-f1cfb7dcc858",
   "metadata": {
    "tags": []
   },
   "outputs": [
    {
     "data": {
      "text/html": [
       "<div>\n",
       "<style scoped>\n",
       "    .dataframe tbody tr th:only-of-type {\n",
       "        vertical-align: middle;\n",
       "    }\n",
       "\n",
       "    .dataframe tbody tr th {\n",
       "        vertical-align: top;\n",
       "    }\n",
       "\n",
       "    .dataframe thead th {\n",
       "        text-align: right;\n",
       "    }\n",
       "</style>\n",
       "<table border=\"1\" class=\"dataframe\">\n",
       "  <thead>\n",
       "    <tr style=\"text-align: right;\">\n",
       "      <th></th>\n",
       "      <th>User_ID</th>\n",
       "      <th>Product_ID</th>\n",
       "      <th>Gender</th>\n",
       "      <th>Age</th>\n",
       "      <th>Occupation</th>\n",
       "      <th>City_Category</th>\n",
       "      <th>Stay_In_Current_City_Years</th>\n",
       "      <th>Marital_Status</th>\n",
       "      <th>Product_Category_1</th>\n",
       "      <th>Product_Category_2</th>\n",
       "      <th>Product_Category_3</th>\n",
       "    </tr>\n",
       "  </thead>\n",
       "  <tbody>\n",
       "    <tr>\n",
       "      <th>0</th>\n",
       "      <td>1000004</td>\n",
       "      <td>P00128942</td>\n",
       "      <td>M</td>\n",
       "      <td>46-50</td>\n",
       "      <td>7</td>\n",
       "      <td>B</td>\n",
       "      <td>2</td>\n",
       "      <td>1</td>\n",
       "      <td>1</td>\n",
       "      <td>11.0</td>\n",
       "      <td>NaN</td>\n",
       "    </tr>\n",
       "    <tr>\n",
       "      <th>1</th>\n",
       "      <td>1000009</td>\n",
       "      <td>P00113442</td>\n",
       "      <td>M</td>\n",
       "      <td>26-35</td>\n",
       "      <td>17</td>\n",
       "      <td>C</td>\n",
       "      <td>0</td>\n",
       "      <td>0</td>\n",
       "      <td>3</td>\n",
       "      <td>5.0</td>\n",
       "      <td>NaN</td>\n",
       "    </tr>\n",
       "  </tbody>\n",
       "</table>\n",
       "</div>"
      ],
      "text/plain": [
       "   User_ID Product_ID Gender    Age  Occupation City_Category  \\\n",
       "0  1000004  P00128942      M  46-50           7             B   \n",
       "1  1000009  P00113442      M  26-35          17             C   \n",
       "\n",
       "  Stay_In_Current_City_Years  Marital_Status  Product_Category_1  \\\n",
       "0                          2               1                   1   \n",
       "1                          0               0                   3   \n",
       "\n",
       "   Product_Category_2  Product_Category_3  \n",
       "0                11.0                 NaN  \n",
       "1                 5.0                 NaN  "
      ]
     },
     "execution_count": 6,
     "metadata": {},
     "output_type": "execute_result"
    }
   ],
   "source": [
    "df_test.head(2)"
   ]
  },
  {
   "cell_type": "code",
   "execution_count": 7,
   "id": "9f9adc2a-f3d1-4c0a-87e1-27581794e0e8",
   "metadata": {
    "tags": []
   },
   "outputs": [],
   "source": [
    "df = df_train.append(df_test)"
   ]
  },
  {
   "cell_type": "code",
   "execution_count": 8,
   "id": "f34c1fc3-a3a7-45cf-9f58-fdf1b5e58acb",
   "metadata": {
    "tags": []
   },
   "outputs": [
    {
     "data": {
      "text/plain": [
       "(783667, 12)"
      ]
     },
     "execution_count": 8,
     "metadata": {},
     "output_type": "execute_result"
    }
   ],
   "source": [
    "df.shape"
   ]
  },
  {
   "cell_type": "code",
   "execution_count": null,
   "id": "1c524292-004d-4343-aaa9-cc4442dd0aaf",
   "metadata": {},
   "outputs": [],
   "source": []
  },
  {
   "cell_type": "code",
   "execution_count": 9,
   "id": "e0921253-3b8e-4789-95c6-7a3dfae4364f",
   "metadata": {
    "tags": []
   },
   "outputs": [
    {
     "name": "stdout",
     "output_type": "stream",
     "text": [
      "<class 'pandas.core.frame.DataFrame'>\n",
      "Int64Index: 783667 entries, 0 to 233598\n",
      "Data columns (total 12 columns):\n",
      " #   Column                      Non-Null Count   Dtype  \n",
      "---  ------                      --------------   -----  \n",
      " 0   User_ID                     783667 non-null  int64  \n",
      " 1   Product_ID                  783667 non-null  object \n",
      " 2   Gender                      783667 non-null  object \n",
      " 3   Age                         783667 non-null  object \n",
      " 4   Occupation                  783667 non-null  int64  \n",
      " 5   City_Category               783667 non-null  object \n",
      " 6   Stay_In_Current_City_Years  783667 non-null  object \n",
      " 7   Marital_Status              783667 non-null  int64  \n",
      " 8   Product_Category_1          783667 non-null  int64  \n",
      " 9   Product_Category_2          537685 non-null  float64\n",
      " 10  Product_Category_3          237858 non-null  float64\n",
      " 11  Purchase                    550068 non-null  float64\n",
      "dtypes: float64(3), int64(4), object(5)\n",
      "memory usage: 77.7+ MB\n"
     ]
    }
   ],
   "source": [
    "df.info()"
   ]
  },
  {
   "cell_type": "code",
   "execution_count": 10,
   "id": "74ba3f2c-d9a3-43fd-890b-4dd489295433",
   "metadata": {
    "tags": []
   },
   "outputs": [
    {
     "data": {
      "text/html": [
       "<style type=\"text/css\">\n",
       "#T_86e97_row0_col0 {\n",
       "  background-color: #1a843f;\n",
       "  color: #f1f1f1;\n",
       "}\n",
       "#T_86e97_row0_col1, #T_86e97_row0_col2, #T_86e97_row0_col3, #T_86e97_row0_col4, #T_86e97_row0_col5, #T_86e97_row0_col6, #T_86e97_row1_col0, #T_86e97_row5_col0, #T_86e97_row6_col0, #T_86e97_row7_col0 {\n",
       "  background-color: #00441b;\n",
       "  color: #f1f1f1;\n",
       "}\n",
       "#T_86e97_row1_col1, #T_86e97_row1_col2, #T_86e97_row1_col3, #T_86e97_row1_col4, #T_86e97_row1_col5, #T_86e97_row2_col0, #T_86e97_row2_col1, #T_86e97_row2_col2, #T_86e97_row2_col3, #T_86e97_row2_col4, #T_86e97_row2_col5, #T_86e97_row3_col1, #T_86e97_row3_col2, #T_86e97_row3_col3, #T_86e97_row3_col4, #T_86e97_row3_col5, #T_86e97_row3_col6, #T_86e97_row4_col1, #T_86e97_row4_col2, #T_86e97_row4_col3, #T_86e97_row4_col4, #T_86e97_row4_col5, #T_86e97_row5_col1, #T_86e97_row5_col2, #T_86e97_row5_col3, #T_86e97_row5_col4, #T_86e97_row5_col5, #T_86e97_row6_col1, #T_86e97_row6_col2, #T_86e97_row6_col3, #T_86e97_row6_col4, #T_86e97_row6_col5, #T_86e97_row7_col1, #T_86e97_row7_col2, #T_86e97_row7_col3, #T_86e97_row7_col4, #T_86e97_row7_col5 {\n",
       "  background-color: #f7fcf5;\n",
       "  color: #000000;\n",
       "}\n",
       "#T_86e97_row1_col6 {\n",
       "  background-color: #f5fbf2;\n",
       "  color: #000000;\n",
       "}\n",
       "#T_86e97_row2_col6, #T_86e97_row4_col6 {\n",
       "  background-color: #f6fcf4;\n",
       "  color: #000000;\n",
       "}\n",
       "#T_86e97_row3_col0, #T_86e97_row4_col0 {\n",
       "  background-color: #00451c;\n",
       "  color: #f1f1f1;\n",
       "}\n",
       "#T_86e97_row5_col6 {\n",
       "  background-color: #f5fbf3;\n",
       "  color: #000000;\n",
       "}\n",
       "#T_86e97_row6_col6 {\n",
       "  background-color: #f4fbf2;\n",
       "  color: #000000;\n",
       "}\n",
       "#T_86e97_row7_col6 {\n",
       "  background-color: #f1faee;\n",
       "  color: #000000;\n",
       "}\n",
       "</style>\n",
       "<table id=\"T_86e97\">\n",
       "  <thead>\n",
       "    <tr>\n",
       "      <th class=\"blank level0\" >&nbsp;</th>\n",
       "      <th id=\"T_86e97_level0_col0\" class=\"col_heading level0 col0\" >User_ID</th>\n",
       "      <th id=\"T_86e97_level0_col1\" class=\"col_heading level0 col1\" >Occupation</th>\n",
       "      <th id=\"T_86e97_level0_col2\" class=\"col_heading level0 col2\" >Marital_Status</th>\n",
       "      <th id=\"T_86e97_level0_col3\" class=\"col_heading level0 col3\" >Product_Category_1</th>\n",
       "      <th id=\"T_86e97_level0_col4\" class=\"col_heading level0 col4\" >Product_Category_2</th>\n",
       "      <th id=\"T_86e97_level0_col5\" class=\"col_heading level0 col5\" >Product_Category_3</th>\n",
       "      <th id=\"T_86e97_level0_col6\" class=\"col_heading level0 col6\" >Purchase</th>\n",
       "    </tr>\n",
       "  </thead>\n",
       "  <tbody>\n",
       "    <tr>\n",
       "      <th id=\"T_86e97_level0_row0\" class=\"row_heading level0 row0\" >count</th>\n",
       "      <td id=\"T_86e97_row0_col0\" class=\"data row0 col0\" >783667.000000</td>\n",
       "      <td id=\"T_86e97_row0_col1\" class=\"data row0 col1\" >783667.000000</td>\n",
       "      <td id=\"T_86e97_row0_col2\" class=\"data row0 col2\" >783667.000000</td>\n",
       "      <td id=\"T_86e97_row0_col3\" class=\"data row0 col3\" >783667.000000</td>\n",
       "      <td id=\"T_86e97_row0_col4\" class=\"data row0 col4\" >537685.000000</td>\n",
       "      <td id=\"T_86e97_row0_col5\" class=\"data row0 col5\" >237858.000000</td>\n",
       "      <td id=\"T_86e97_row0_col6\" class=\"data row0 col6\" >550068.000000</td>\n",
       "    </tr>\n",
       "    <tr>\n",
       "      <th id=\"T_86e97_level0_row1\" class=\"row_heading level0 row1\" >mean</th>\n",
       "      <td id=\"T_86e97_row1_col0\" class=\"data row1 col0\" >1003028.995753</td>\n",
       "      <td id=\"T_86e97_row1_col1\" class=\"data row1 col1\" >8.079300</td>\n",
       "      <td id=\"T_86e97_row1_col2\" class=\"data row1 col2\" >0.409777</td>\n",
       "      <td id=\"T_86e97_row1_col3\" class=\"data row1 col3\" >5.366196</td>\n",
       "      <td id=\"T_86e97_row1_col4\" class=\"data row1 col4\" >9.844506</td>\n",
       "      <td id=\"T_86e97_row1_col5\" class=\"data row1 col5\" >12.668605</td>\n",
       "      <td id=\"T_86e97_row1_col6\" class=\"data row1 col6\" >9263.968713</td>\n",
       "    </tr>\n",
       "    <tr>\n",
       "      <th id=\"T_86e97_level0_row2\" class=\"row_heading level0 row2\" >std</th>\n",
       "      <td id=\"T_86e97_row2_col0\" class=\"data row2 col0\" >1727.266668</td>\n",
       "      <td id=\"T_86e97_row2_col1\" class=\"data row2 col1\" >6.522206</td>\n",
       "      <td id=\"T_86e97_row2_col2\" class=\"data row2 col2\" >0.491793</td>\n",
       "      <td id=\"T_86e97_row2_col3\" class=\"data row2 col3\" >3.878160</td>\n",
       "      <td id=\"T_86e97_row2_col4\" class=\"data row2 col4\" >5.089093</td>\n",
       "      <td id=\"T_86e97_row2_col5\" class=\"data row2 col5\" >4.125510</td>\n",
       "      <td id=\"T_86e97_row2_col6\" class=\"data row2 col6\" >5023.065394</td>\n",
       "    </tr>\n",
       "    <tr>\n",
       "      <th id=\"T_86e97_level0_row3\" class=\"row_heading level0 row3\" >min</th>\n",
       "      <td id=\"T_86e97_row3_col0\" class=\"data row3 col0\" >1000001.000000</td>\n",
       "      <td id=\"T_86e97_row3_col1\" class=\"data row3 col1\" >0.000000</td>\n",
       "      <td id=\"T_86e97_row3_col2\" class=\"data row3 col2\" >0.000000</td>\n",
       "      <td id=\"T_86e97_row3_col3\" class=\"data row3 col3\" >1.000000</td>\n",
       "      <td id=\"T_86e97_row3_col4\" class=\"data row3 col4\" >2.000000</td>\n",
       "      <td id=\"T_86e97_row3_col5\" class=\"data row3 col5\" >3.000000</td>\n",
       "      <td id=\"T_86e97_row3_col6\" class=\"data row3 col6\" >12.000000</td>\n",
       "    </tr>\n",
       "    <tr>\n",
       "      <th id=\"T_86e97_level0_row4\" class=\"row_heading level0 row4\" >25%</th>\n",
       "      <td id=\"T_86e97_row4_col0\" class=\"data row4 col0\" >1001519.000000</td>\n",
       "      <td id=\"T_86e97_row4_col1\" class=\"data row4 col1\" >2.000000</td>\n",
       "      <td id=\"T_86e97_row4_col2\" class=\"data row4 col2\" >0.000000</td>\n",
       "      <td id=\"T_86e97_row4_col3\" class=\"data row4 col3\" >1.000000</td>\n",
       "      <td id=\"T_86e97_row4_col4\" class=\"data row4 col4\" >5.000000</td>\n",
       "      <td id=\"T_86e97_row4_col5\" class=\"data row4 col5\" >9.000000</td>\n",
       "      <td id=\"T_86e97_row4_col6\" class=\"data row4 col6\" >5823.000000</td>\n",
       "    </tr>\n",
       "    <tr>\n",
       "      <th id=\"T_86e97_level0_row5\" class=\"row_heading level0 row5\" >50%</th>\n",
       "      <td id=\"T_86e97_row5_col0\" class=\"data row5 col0\" >1003075.000000</td>\n",
       "      <td id=\"T_86e97_row5_col1\" class=\"data row5 col1\" >7.000000</td>\n",
       "      <td id=\"T_86e97_row5_col2\" class=\"data row5 col2\" >0.000000</td>\n",
       "      <td id=\"T_86e97_row5_col3\" class=\"data row5 col3\" >5.000000</td>\n",
       "      <td id=\"T_86e97_row5_col4\" class=\"data row5 col4\" >9.000000</td>\n",
       "      <td id=\"T_86e97_row5_col5\" class=\"data row5 col5\" >14.000000</td>\n",
       "      <td id=\"T_86e97_row5_col6\" class=\"data row5 col6\" >8047.000000</td>\n",
       "    </tr>\n",
       "    <tr>\n",
       "      <th id=\"T_86e97_level0_row6\" class=\"row_heading level0 row6\" >75%</th>\n",
       "      <td id=\"T_86e97_row6_col0\" class=\"data row6 col0\" >1004478.000000</td>\n",
       "      <td id=\"T_86e97_row6_col1\" class=\"data row6 col1\" >14.000000</td>\n",
       "      <td id=\"T_86e97_row6_col2\" class=\"data row6 col2\" >1.000000</td>\n",
       "      <td id=\"T_86e97_row6_col3\" class=\"data row6 col3\" >8.000000</td>\n",
       "      <td id=\"T_86e97_row6_col4\" class=\"data row6 col4\" >15.000000</td>\n",
       "      <td id=\"T_86e97_row6_col5\" class=\"data row6 col5\" >16.000000</td>\n",
       "      <td id=\"T_86e97_row6_col6\" class=\"data row6 col6\" >12054.000000</td>\n",
       "    </tr>\n",
       "    <tr>\n",
       "      <th id=\"T_86e97_level0_row7\" class=\"row_heading level0 row7\" >max</th>\n",
       "      <td id=\"T_86e97_row7_col0\" class=\"data row7 col0\" >1006040.000000</td>\n",
       "      <td id=\"T_86e97_row7_col1\" class=\"data row7 col1\" >20.000000</td>\n",
       "      <td id=\"T_86e97_row7_col2\" class=\"data row7 col2\" >1.000000</td>\n",
       "      <td id=\"T_86e97_row7_col3\" class=\"data row7 col3\" >20.000000</td>\n",
       "      <td id=\"T_86e97_row7_col4\" class=\"data row7 col4\" >18.000000</td>\n",
       "      <td id=\"T_86e97_row7_col5\" class=\"data row7 col5\" >18.000000</td>\n",
       "      <td id=\"T_86e97_row7_col6\" class=\"data row7 col6\" >23961.000000</td>\n",
       "    </tr>\n",
       "  </tbody>\n",
       "</table>\n"
      ],
      "text/plain": [
       "<pandas.io.formats.style.Styler at 0x1677bbbff10>"
      ]
     },
     "execution_count": 10,
     "metadata": {},
     "output_type": "execute_result"
    }
   ],
   "source": [
    "df.describe().style.background_gradient(cmap='Greens')"
   ]
  },
  {
   "cell_type": "code",
   "execution_count": null,
   "id": "ccd9d978-a18c-419a-a190-84940874d248",
   "metadata": {},
   "outputs": [],
   "source": []
  },
  {
   "cell_type": "markdown",
   "id": "c00cff73-a296-4b96-93d3-cc55f09f6226",
   "metadata": {},
   "source": [
    "#### Dropping user id column = axis 1, rows axis =0\n"
   ]
  },
  {
   "cell_type": "code",
   "execution_count": 11,
   "id": "1703b656-5fad-4f94-b9d3-17912cbc5f16",
   "metadata": {
    "tags": []
   },
   "outputs": [],
   "source": [
    "## Dropping user id column = axis 1, rows axis =0\n",
    "\n",
    "df.drop(columns=\"User_ID\",axis=1, inplace=True)"
   ]
  },
  {
   "cell_type": "code",
   "execution_count": null,
   "id": "38ccdc80-9a94-4562-b54d-690059c654da",
   "metadata": {},
   "outputs": [],
   "source": []
  },
  {
   "cell_type": "code",
   "execution_count": 12,
   "id": "f071332a-adc3-4955-a49a-9797a1092e7a",
   "metadata": {
    "tags": []
   },
   "outputs": [
    {
     "data": {
      "text/plain": [
       "Index(['Occupation', 'Marital_Status', 'Product_Category_1',\n",
       "       'Product_Category_2', 'Product_Category_3', 'Purchase'],\n",
       "      dtype='object')"
      ]
     },
     "execution_count": 12,
     "metadata": {},
     "output_type": "execute_result"
    }
   ],
   "source": [
    "## Numerical Value \n",
    "\n",
    "df.select_dtypes(include=[\"int64\",\"float64\"]).columns"
   ]
  },
  {
   "cell_type": "code",
   "execution_count": null,
   "id": "ba421fa2-0396-405b-93e4-37c5aca8eeb3",
   "metadata": {},
   "outputs": [],
   "source": []
  },
  {
   "cell_type": "code",
   "execution_count": null,
   "id": "2cd8370b-b6e8-401f-baab-05504f60a1ab",
   "metadata": {},
   "outputs": [],
   "source": []
  },
  {
   "cell_type": "markdown",
   "id": "93ab421c-b65a-4a7b-a517-7e77201d1152",
   "metadata": {},
   "source": [
    "## Handelling the Categorical Features"
   ]
  },
  {
   "cell_type": "code",
   "execution_count": 13,
   "id": "2c836f8f-a363-4ffe-8d27-225c4b2a832b",
   "metadata": {
    "tags": []
   },
   "outputs": [
    {
     "data": {
      "text/html": [
       "<div>\n",
       "<style scoped>\n",
       "    .dataframe tbody tr th:only-of-type {\n",
       "        vertical-align: middle;\n",
       "    }\n",
       "\n",
       "    .dataframe tbody tr th {\n",
       "        vertical-align: top;\n",
       "    }\n",
       "\n",
       "    .dataframe thead th {\n",
       "        text-align: right;\n",
       "    }\n",
       "</style>\n",
       "<table border=\"1\" class=\"dataframe\">\n",
       "  <thead>\n",
       "    <tr style=\"text-align: right;\">\n",
       "      <th></th>\n",
       "      <th>Product_ID</th>\n",
       "      <th>Gender</th>\n",
       "      <th>Age</th>\n",
       "      <th>City_Category</th>\n",
       "      <th>Stay_In_Current_City_Years</th>\n",
       "    </tr>\n",
       "  </thead>\n",
       "  <tbody>\n",
       "    <tr>\n",
       "      <th>0</th>\n",
       "      <td>P00069042</td>\n",
       "      <td>F</td>\n",
       "      <td>0-17</td>\n",
       "      <td>A</td>\n",
       "      <td>2</td>\n",
       "    </tr>\n",
       "    <tr>\n",
       "      <th>1</th>\n",
       "      <td>P00248942</td>\n",
       "      <td>F</td>\n",
       "      <td>0-17</td>\n",
       "      <td>A</td>\n",
       "      <td>2</td>\n",
       "    </tr>\n",
       "    <tr>\n",
       "      <th>2</th>\n",
       "      <td>P00087842</td>\n",
       "      <td>F</td>\n",
       "      <td>0-17</td>\n",
       "      <td>A</td>\n",
       "      <td>2</td>\n",
       "    </tr>\n",
       "    <tr>\n",
       "      <th>3</th>\n",
       "      <td>P00085442</td>\n",
       "      <td>F</td>\n",
       "      <td>0-17</td>\n",
       "      <td>A</td>\n",
       "      <td>2</td>\n",
       "    </tr>\n",
       "    <tr>\n",
       "      <th>4</th>\n",
       "      <td>P00285442</td>\n",
       "      <td>M</td>\n",
       "      <td>55+</td>\n",
       "      <td>C</td>\n",
       "      <td>4+</td>\n",
       "    </tr>\n",
       "  </tbody>\n",
       "</table>\n",
       "</div>"
      ],
      "text/plain": [
       "  Product_ID Gender   Age City_Category Stay_In_Current_City_Years\n",
       "0  P00069042      F  0-17             A                          2\n",
       "1  P00248942      F  0-17             A                          2\n",
       "2  P00087842      F  0-17             A                          2\n",
       "3  P00085442      F  0-17             A                          2\n",
       "4  P00285442      M   55+             C                         4+"
      ]
     },
     "execution_count": 13,
     "metadata": {},
     "output_type": "execute_result"
    }
   ],
   "source": [
    "## Categorical Feature\n",
    "df.select_dtypes(include=[\"object\"]).head()"
   ]
  },
  {
   "cell_type": "code",
   "execution_count": 14,
   "id": "6bd9436e-e0e5-46b3-8ec4-4b3896c572e5",
   "metadata": {
    "tags": []
   },
   "outputs": [
    {
     "data": {
      "text/plain": [
       "Index(['Product_ID', 'Gender', 'Age', 'City_Category',\n",
       "       'Stay_In_Current_City_Years'],\n",
       "      dtype='object')"
      ]
     },
     "execution_count": 14,
     "metadata": {},
     "output_type": "execute_result"
    }
   ],
   "source": [
    "df.select_dtypes(include=[\"object\"]).columns"
   ]
  },
  {
   "cell_type": "code",
   "execution_count": null,
   "id": "295ee2a7-efdc-4e99-8363-d40444cb3b36",
   "metadata": {},
   "outputs": [],
   "source": []
  },
  {
   "cell_type": "markdown",
   "id": "8052241e-d8bf-49aa-84d4-dedcbbf28aa2",
   "metadata": {},
   "source": [
    "#### ## Conveting Gender column into the Numerical column\n"
   ]
  },
  {
   "cell_type": "code",
   "execution_count": 15,
   "id": "2a907141-033b-43cf-b18e-8253a8806672",
   "metadata": {
    "tags": []
   },
   "outputs": [
    {
     "name": "stdout",
     "output_type": "stream",
     "text": [
      "[0, 0, 0, 0, 1]\n",
      "0    0\n",
      "1    0\n",
      "2    0\n",
      "3    0\n",
      "4    1\n",
      "Name: Gender, dtype: int64\n"
     ]
    }
   ],
   "source": [
    "## Conveting Gender column into the Numerical column\n",
    "print([0 if sex =='F' else  1 for sex in df.Gender.head()])\n",
    "\n",
    "## can be done with multiple approach \n",
    "print(df.Gender.head().map({'F':0, 'M':1}))\n",
    "\n",
    "\n",
    "## Updating the Gender Column with M = 1 and F = 0\n",
    "df.Gender = df.Gender.map({'F':0, 'M':1})"
   ]
  },
  {
   "cell_type": "code",
   "execution_count": 16,
   "id": "1ab9aa27-0bf2-43a7-9913-15c03208e6c8",
   "metadata": {
    "tags": []
   },
   "outputs": [
    {
     "data": {
      "text/html": [
       "<div>\n",
       "<style scoped>\n",
       "    .dataframe tbody tr th:only-of-type {\n",
       "        vertical-align: middle;\n",
       "    }\n",
       "\n",
       "    .dataframe tbody tr th {\n",
       "        vertical-align: top;\n",
       "    }\n",
       "\n",
       "    .dataframe thead th {\n",
       "        text-align: right;\n",
       "    }\n",
       "</style>\n",
       "<table border=\"1\" class=\"dataframe\">\n",
       "  <thead>\n",
       "    <tr style=\"text-align: right;\">\n",
       "      <th></th>\n",
       "      <th>Product_ID</th>\n",
       "      <th>Gender</th>\n",
       "      <th>Age</th>\n",
       "      <th>Occupation</th>\n",
       "      <th>City_Category</th>\n",
       "      <th>Stay_In_Current_City_Years</th>\n",
       "      <th>Marital_Status</th>\n",
       "      <th>Product_Category_1</th>\n",
       "      <th>Product_Category_2</th>\n",
       "      <th>Product_Category_3</th>\n",
       "      <th>Purchase</th>\n",
       "    </tr>\n",
       "  </thead>\n",
       "  <tbody>\n",
       "    <tr>\n",
       "      <th>0</th>\n",
       "      <td>P00069042</td>\n",
       "      <td>0</td>\n",
       "      <td>0-17</td>\n",
       "      <td>10</td>\n",
       "      <td>A</td>\n",
       "      <td>2</td>\n",
       "      <td>0</td>\n",
       "      <td>3</td>\n",
       "      <td>NaN</td>\n",
       "      <td>NaN</td>\n",
       "      <td>8370.0</td>\n",
       "    </tr>\n",
       "    <tr>\n",
       "      <th>1</th>\n",
       "      <td>P00248942</td>\n",
       "      <td>0</td>\n",
       "      <td>0-17</td>\n",
       "      <td>10</td>\n",
       "      <td>A</td>\n",
       "      <td>2</td>\n",
       "      <td>0</td>\n",
       "      <td>1</td>\n",
       "      <td>6.0</td>\n",
       "      <td>14.0</td>\n",
       "      <td>15200.0</td>\n",
       "    </tr>\n",
       "    <tr>\n",
       "      <th>2</th>\n",
       "      <td>P00087842</td>\n",
       "      <td>0</td>\n",
       "      <td>0-17</td>\n",
       "      <td>10</td>\n",
       "      <td>A</td>\n",
       "      <td>2</td>\n",
       "      <td>0</td>\n",
       "      <td>12</td>\n",
       "      <td>NaN</td>\n",
       "      <td>NaN</td>\n",
       "      <td>1422.0</td>\n",
       "    </tr>\n",
       "    <tr>\n",
       "      <th>3</th>\n",
       "      <td>P00085442</td>\n",
       "      <td>0</td>\n",
       "      <td>0-17</td>\n",
       "      <td>10</td>\n",
       "      <td>A</td>\n",
       "      <td>2</td>\n",
       "      <td>0</td>\n",
       "      <td>12</td>\n",
       "      <td>14.0</td>\n",
       "      <td>NaN</td>\n",
       "      <td>1057.0</td>\n",
       "    </tr>\n",
       "    <tr>\n",
       "      <th>4</th>\n",
       "      <td>P00285442</td>\n",
       "      <td>1</td>\n",
       "      <td>55+</td>\n",
       "      <td>16</td>\n",
       "      <td>C</td>\n",
       "      <td>4+</td>\n",
       "      <td>0</td>\n",
       "      <td>8</td>\n",
       "      <td>NaN</td>\n",
       "      <td>NaN</td>\n",
       "      <td>7969.0</td>\n",
       "    </tr>\n",
       "  </tbody>\n",
       "</table>\n",
       "</div>"
      ],
      "text/plain": [
       "  Product_ID  Gender   Age  Occupation City_Category  \\\n",
       "0  P00069042       0  0-17          10             A   \n",
       "1  P00248942       0  0-17          10             A   \n",
       "2  P00087842       0  0-17          10             A   \n",
       "3  P00085442       0  0-17          10             A   \n",
       "4  P00285442       1   55+          16             C   \n",
       "\n",
       "  Stay_In_Current_City_Years  Marital_Status  Product_Category_1  \\\n",
       "0                          2               0                   3   \n",
       "1                          2               0                   1   \n",
       "2                          2               0                  12   \n",
       "3                          2               0                  12   \n",
       "4                         4+               0                   8   \n",
       "\n",
       "   Product_Category_2  Product_Category_3  Purchase  \n",
       "0                 NaN                 NaN    8370.0  \n",
       "1                 6.0                14.0   15200.0  \n",
       "2                 NaN                 NaN    1422.0  \n",
       "3                14.0                 NaN    1057.0  \n",
       "4                 NaN                 NaN    7969.0  "
      ]
     },
     "execution_count": 16,
     "metadata": {},
     "output_type": "execute_result"
    }
   ],
   "source": [
    "df.head()"
   ]
  },
  {
   "cell_type": "code",
   "execution_count": null,
   "id": "ed94edeb-7e12-400c-95ec-2ce8d0e9e025",
   "metadata": {},
   "outputs": [],
   "source": []
  },
  {
   "cell_type": "markdown",
   "id": "b5b2ddf2-206f-4874-9c11-c14ea622a3f0",
   "metadata": {},
   "source": [
    "#### ## Working with the Age Feature"
   ]
  },
  {
   "cell_type": "code",
   "execution_count": 17,
   "id": "09b315cb-2ec7-4ba6-8a45-ef4d949a4fc6",
   "metadata": {
    "tags": []
   },
   "outputs": [
    {
     "data": {
      "text/plain": [
       "array(['0-17', '55+', '26-35', '46-50', '51-55', '36-45', '18-25'],\n",
       "      dtype=object)"
      ]
     },
     "execution_count": 17,
     "metadata": {},
     "output_type": "execute_result"
    }
   ],
   "source": [
    "df.Age.unique()"
   ]
  },
  {
   "cell_type": "code",
   "execution_count": 18,
   "id": "0c332c0c-83d9-4532-9ce2-a0f1c9d6de0f",
   "metadata": {
    "tags": []
   },
   "outputs": [
    {
     "data": {
      "text/html": [
       "<div>\n",
       "<style scoped>\n",
       "    .dataframe tbody tr th:only-of-type {\n",
       "        vertical-align: middle;\n",
       "    }\n",
       "\n",
       "    .dataframe tbody tr th {\n",
       "        vertical-align: top;\n",
       "    }\n",
       "\n",
       "    .dataframe thead th {\n",
       "        text-align: right;\n",
       "    }\n",
       "</style>\n",
       "<table border=\"1\" class=\"dataframe\">\n",
       "  <thead>\n",
       "    <tr style=\"text-align: right;\">\n",
       "      <th></th>\n",
       "      <th>0-17</th>\n",
       "      <th>18-25</th>\n",
       "      <th>26-35</th>\n",
       "      <th>36-45</th>\n",
       "      <th>46-50</th>\n",
       "      <th>51-55</th>\n",
       "      <th>55+</th>\n",
       "    </tr>\n",
       "  </thead>\n",
       "  <tbody>\n",
       "    <tr>\n",
       "      <th>0</th>\n",
       "      <td>1</td>\n",
       "      <td>0</td>\n",
       "      <td>0</td>\n",
       "      <td>0</td>\n",
       "      <td>0</td>\n",
       "      <td>0</td>\n",
       "      <td>0</td>\n",
       "    </tr>\n",
       "    <tr>\n",
       "      <th>1</th>\n",
       "      <td>1</td>\n",
       "      <td>0</td>\n",
       "      <td>0</td>\n",
       "      <td>0</td>\n",
       "      <td>0</td>\n",
       "      <td>0</td>\n",
       "      <td>0</td>\n",
       "    </tr>\n",
       "    <tr>\n",
       "      <th>2</th>\n",
       "      <td>1</td>\n",
       "      <td>0</td>\n",
       "      <td>0</td>\n",
       "      <td>0</td>\n",
       "      <td>0</td>\n",
       "      <td>0</td>\n",
       "      <td>0</td>\n",
       "    </tr>\n",
       "    <tr>\n",
       "      <th>3</th>\n",
       "      <td>1</td>\n",
       "      <td>0</td>\n",
       "      <td>0</td>\n",
       "      <td>0</td>\n",
       "      <td>0</td>\n",
       "      <td>0</td>\n",
       "      <td>0</td>\n",
       "    </tr>\n",
       "    <tr>\n",
       "      <th>4</th>\n",
       "      <td>0</td>\n",
       "      <td>0</td>\n",
       "      <td>0</td>\n",
       "      <td>0</td>\n",
       "      <td>0</td>\n",
       "      <td>0</td>\n",
       "      <td>1</td>\n",
       "    </tr>\n",
       "  </tbody>\n",
       "</table>\n",
       "</div>"
      ],
      "text/plain": [
       "   0-17  18-25  26-35  36-45  46-50  51-55  55+\n",
       "0     1      0      0      0      0      0    0\n",
       "1     1      0      0      0      0      0    0\n",
       "2     1      0      0      0      0      0    0\n",
       "3     1      0      0      0      0      0    0\n",
       "4     0      0      0      0      0      0    1"
      ]
     },
     "execution_count": 18,
     "metadata": {},
     "output_type": "execute_result"
    }
   ],
   "source": [
    "pd.get_dummies(df.Age).head()"
   ]
  },
  {
   "cell_type": "code",
   "execution_count": null,
   "id": "0f846b5d-d59f-4796-a69d-609e22fe1f5d",
   "metadata": {},
   "outputs": [],
   "source": []
  },
  {
   "cell_type": "markdown",
   "id": "cc2664fa-1264-4922-ab1a-1409f75ff9a9",
   "metadata": {},
   "source": [
    "##### ## Assigning Ordinal Values manually in the Age Feature"
   ]
  },
  {
   "cell_type": "code",
   "execution_count": 19,
   "id": "649de676-c8d1-464d-8d25-01102bf5bd55",
   "metadata": {
    "tags": []
   },
   "outputs": [
    {
     "data": {
      "text/plain": [
       "{'0-17': 1,\n",
       " '18-25': 2,\n",
       " '26-35': 3,\n",
       " '36-45': 4,\n",
       " '46-50': 5,\n",
       " '51-55': 6,\n",
       " '55+': 7}"
      ]
     },
     "execution_count": 19,
     "metadata": {},
     "output_type": "execute_result"
    }
   ],
   "source": [
    "odinal_var = {}\n",
    "for idx, age in enumerate(sorted(list(df.Age.unique())),1):\n",
    "    odinal_var[age]=idx\n",
    "odinal_var"
   ]
  },
  {
   "cell_type": "code",
   "execution_count": 20,
   "id": "1be0f324-1c0e-40d2-8d7d-d5e1f03cb2af",
   "metadata": {
    "tags": []
   },
   "outputs": [
    {
     "data": {
      "text/plain": [
       "array([1, 7, 3, 5, 6, 4, 2], dtype=int64)"
      ]
     },
     "execution_count": 20,
     "metadata": {},
     "output_type": "execute_result"
    }
   ],
   "source": [
    "df.Age = df.Age.map(odinal_var)\n",
    "df.Age.unique()"
   ]
  },
  {
   "cell_type": "code",
   "execution_count": null,
   "id": "6b65ad16-6f2c-4fd1-a4c2-2d269ac93f32",
   "metadata": {
    "tags": []
   },
   "outputs": [],
   "source": []
  },
  {
   "cell_type": "markdown",
   "id": "831c9ae0-4462-4946-ac3e-299add646552",
   "metadata": {},
   "source": [
    "##### Second way of doing it\n",
    "## Lable encoding Approach assinging the value in the Age Feature"
   ]
  },
  {
   "cell_type": "code",
   "execution_count": 21,
   "id": "c8379db3-3621-45ce-a248-617f0375ee97",
   "metadata": {
    "tags": []
   },
   "outputs": [],
   "source": [
    "# from sklearn import preprocessing\n",
    "\n",
    "# lable_encoder = preprocessing.LabelEncoder()\n",
    "# df.Age = lable_encoder.fit_transform(df.Age)\n",
    "# df.Age.unique()"
   ]
  },
  {
   "cell_type": "code",
   "execution_count": 22,
   "id": "b8ecbbb2-d21c-470c-8e72-3a33241091f1",
   "metadata": {
    "tags": []
   },
   "outputs": [
    {
     "data": {
      "text/html": [
       "<div>\n",
       "<style scoped>\n",
       "    .dataframe tbody tr th:only-of-type {\n",
       "        vertical-align: middle;\n",
       "    }\n",
       "\n",
       "    .dataframe tbody tr th {\n",
       "        vertical-align: top;\n",
       "    }\n",
       "\n",
       "    .dataframe thead th {\n",
       "        text-align: right;\n",
       "    }\n",
       "</style>\n",
       "<table border=\"1\" class=\"dataframe\">\n",
       "  <thead>\n",
       "    <tr style=\"text-align: right;\">\n",
       "      <th></th>\n",
       "      <th>Product_ID</th>\n",
       "      <th>Gender</th>\n",
       "      <th>Age</th>\n",
       "      <th>Occupation</th>\n",
       "      <th>City_Category</th>\n",
       "      <th>Stay_In_Current_City_Years</th>\n",
       "      <th>Marital_Status</th>\n",
       "      <th>Product_Category_1</th>\n",
       "      <th>Product_Category_2</th>\n",
       "      <th>Product_Category_3</th>\n",
       "      <th>Purchase</th>\n",
       "    </tr>\n",
       "  </thead>\n",
       "  <tbody>\n",
       "    <tr>\n",
       "      <th>0</th>\n",
       "      <td>P00069042</td>\n",
       "      <td>0</td>\n",
       "      <td>1</td>\n",
       "      <td>10</td>\n",
       "      <td>A</td>\n",
       "      <td>2</td>\n",
       "      <td>0</td>\n",
       "      <td>3</td>\n",
       "      <td>NaN</td>\n",
       "      <td>NaN</td>\n",
       "      <td>8370.0</td>\n",
       "    </tr>\n",
       "    <tr>\n",
       "      <th>1</th>\n",
       "      <td>P00248942</td>\n",
       "      <td>0</td>\n",
       "      <td>1</td>\n",
       "      <td>10</td>\n",
       "      <td>A</td>\n",
       "      <td>2</td>\n",
       "      <td>0</td>\n",
       "      <td>1</td>\n",
       "      <td>6.0</td>\n",
       "      <td>14.0</td>\n",
       "      <td>15200.0</td>\n",
       "    </tr>\n",
       "    <tr>\n",
       "      <th>2</th>\n",
       "      <td>P00087842</td>\n",
       "      <td>0</td>\n",
       "      <td>1</td>\n",
       "      <td>10</td>\n",
       "      <td>A</td>\n",
       "      <td>2</td>\n",
       "      <td>0</td>\n",
       "      <td>12</td>\n",
       "      <td>NaN</td>\n",
       "      <td>NaN</td>\n",
       "      <td>1422.0</td>\n",
       "    </tr>\n",
       "    <tr>\n",
       "      <th>3</th>\n",
       "      <td>P00085442</td>\n",
       "      <td>0</td>\n",
       "      <td>1</td>\n",
       "      <td>10</td>\n",
       "      <td>A</td>\n",
       "      <td>2</td>\n",
       "      <td>0</td>\n",
       "      <td>12</td>\n",
       "      <td>14.0</td>\n",
       "      <td>NaN</td>\n",
       "      <td>1057.0</td>\n",
       "    </tr>\n",
       "    <tr>\n",
       "      <th>4</th>\n",
       "      <td>P00285442</td>\n",
       "      <td>1</td>\n",
       "      <td>7</td>\n",
       "      <td>16</td>\n",
       "      <td>C</td>\n",
       "      <td>4+</td>\n",
       "      <td>0</td>\n",
       "      <td>8</td>\n",
       "      <td>NaN</td>\n",
       "      <td>NaN</td>\n",
       "      <td>7969.0</td>\n",
       "    </tr>\n",
       "  </tbody>\n",
       "</table>\n",
       "</div>"
      ],
      "text/plain": [
       "  Product_ID  Gender  Age  Occupation City_Category  \\\n",
       "0  P00069042       0    1          10             A   \n",
       "1  P00248942       0    1          10             A   \n",
       "2  P00087842       0    1          10             A   \n",
       "3  P00085442       0    1          10             A   \n",
       "4  P00285442       1    7          16             C   \n",
       "\n",
       "  Stay_In_Current_City_Years  Marital_Status  Product_Category_1  \\\n",
       "0                          2               0                   3   \n",
       "1                          2               0                   1   \n",
       "2                          2               0                  12   \n",
       "3                          2               0                  12   \n",
       "4                         4+               0                   8   \n",
       "\n",
       "   Product_Category_2  Product_Category_3  Purchase  \n",
       "0                 NaN                 NaN    8370.0  \n",
       "1                 6.0                14.0   15200.0  \n",
       "2                 NaN                 NaN    1422.0  \n",
       "3                14.0                 NaN    1057.0  \n",
       "4                 NaN                 NaN    7969.0  "
      ]
     },
     "execution_count": 22,
     "metadata": {},
     "output_type": "execute_result"
    }
   ],
   "source": [
    "df.head()"
   ]
  },
  {
   "cell_type": "code",
   "execution_count": null,
   "id": "cfe19bf9-9420-4866-a8cd-b84b8abedbca",
   "metadata": {},
   "outputs": [],
   "source": []
  },
  {
   "cell_type": "markdown",
   "id": "a3dbcc7e-3d5e-4863-8bb9-8d1b861905d5",
   "metadata": {},
   "source": [
    "#### ##Working with another Categorical Value City_Category "
   ]
  },
  {
   "cell_type": "code",
   "execution_count": 23,
   "id": "3fb480e9-dd8d-43a5-9750-ddb21e92223f",
   "metadata": {
    "tags": []
   },
   "outputs": [
    {
     "data": {
      "text/plain": [
       "array(['A', 'C', 'B'], dtype=object)"
      ]
     },
     "execution_count": 23,
     "metadata": {},
     "output_type": "execute_result"
    }
   ],
   "source": [
    "df.City_Category.unique()"
   ]
  },
  {
   "cell_type": "code",
   "execution_count": 24,
   "id": "71d8c956-d755-4596-9f3c-d6159ccd2031",
   "metadata": {
    "tags": []
   },
   "outputs": [],
   "source": [
    "## Dropping the First Category \n",
    "### If there are three category present in the feature one can be drop and rest two will cover for all three\n",
    "\n",
    "df_city = pd.get_dummies(df.City_Category,drop_first=True)\n"
   ]
  },
  {
   "cell_type": "code",
   "execution_count": 25,
   "id": "78f73d4a-ee58-45a5-81fb-a27fff681882",
   "metadata": {
    "tags": []
   },
   "outputs": [
    {
     "data": {
      "text/html": [
       "<div>\n",
       "<style scoped>\n",
       "    .dataframe tbody tr th:only-of-type {\n",
       "        vertical-align: middle;\n",
       "    }\n",
       "\n",
       "    .dataframe tbody tr th {\n",
       "        vertical-align: top;\n",
       "    }\n",
       "\n",
       "    .dataframe thead th {\n",
       "        text-align: right;\n",
       "    }\n",
       "</style>\n",
       "<table border=\"1\" class=\"dataframe\">\n",
       "  <thead>\n",
       "    <tr style=\"text-align: right;\">\n",
       "      <th></th>\n",
       "      <th>Product_ID</th>\n",
       "      <th>Gender</th>\n",
       "      <th>Age</th>\n",
       "      <th>Occupation</th>\n",
       "      <th>Stay_In_Current_City_Years</th>\n",
       "      <th>Marital_Status</th>\n",
       "      <th>Product_Category_1</th>\n",
       "      <th>Product_Category_2</th>\n",
       "      <th>Product_Category_3</th>\n",
       "      <th>Purchase</th>\n",
       "      <th>B</th>\n",
       "      <th>C</th>\n",
       "    </tr>\n",
       "  </thead>\n",
       "  <tbody>\n",
       "    <tr>\n",
       "      <th>0</th>\n",
       "      <td>P00069042</td>\n",
       "      <td>0</td>\n",
       "      <td>1</td>\n",
       "      <td>10</td>\n",
       "      <td>2</td>\n",
       "      <td>0</td>\n",
       "      <td>3</td>\n",
       "      <td>NaN</td>\n",
       "      <td>NaN</td>\n",
       "      <td>8370.0</td>\n",
       "      <td>0</td>\n",
       "      <td>0</td>\n",
       "    </tr>\n",
       "    <tr>\n",
       "      <th>1</th>\n",
       "      <td>P00248942</td>\n",
       "      <td>0</td>\n",
       "      <td>1</td>\n",
       "      <td>10</td>\n",
       "      <td>2</td>\n",
       "      <td>0</td>\n",
       "      <td>1</td>\n",
       "      <td>6.0</td>\n",
       "      <td>14.0</td>\n",
       "      <td>15200.0</td>\n",
       "      <td>0</td>\n",
       "      <td>0</td>\n",
       "    </tr>\n",
       "    <tr>\n",
       "      <th>2</th>\n",
       "      <td>P00087842</td>\n",
       "      <td>0</td>\n",
       "      <td>1</td>\n",
       "      <td>10</td>\n",
       "      <td>2</td>\n",
       "      <td>0</td>\n",
       "      <td>12</td>\n",
       "      <td>NaN</td>\n",
       "      <td>NaN</td>\n",
       "      <td>1422.0</td>\n",
       "      <td>0</td>\n",
       "      <td>0</td>\n",
       "    </tr>\n",
       "    <tr>\n",
       "      <th>3</th>\n",
       "      <td>P00085442</td>\n",
       "      <td>0</td>\n",
       "      <td>1</td>\n",
       "      <td>10</td>\n",
       "      <td>2</td>\n",
       "      <td>0</td>\n",
       "      <td>12</td>\n",
       "      <td>14.0</td>\n",
       "      <td>NaN</td>\n",
       "      <td>1057.0</td>\n",
       "      <td>0</td>\n",
       "      <td>0</td>\n",
       "    </tr>\n",
       "    <tr>\n",
       "      <th>4</th>\n",
       "      <td>P00285442</td>\n",
       "      <td>1</td>\n",
       "      <td>7</td>\n",
       "      <td>16</td>\n",
       "      <td>4+</td>\n",
       "      <td>0</td>\n",
       "      <td>8</td>\n",
       "      <td>NaN</td>\n",
       "      <td>NaN</td>\n",
       "      <td>7969.0</td>\n",
       "      <td>0</td>\n",
       "      <td>1</td>\n",
       "    </tr>\n",
       "  </tbody>\n",
       "</table>\n",
       "</div>"
      ],
      "text/plain": [
       "  Product_ID  Gender  Age  Occupation Stay_In_Current_City_Years  \\\n",
       "0  P00069042       0    1          10                          2   \n",
       "1  P00248942       0    1          10                          2   \n",
       "2  P00087842       0    1          10                          2   \n",
       "3  P00085442       0    1          10                          2   \n",
       "4  P00285442       1    7          16                         4+   \n",
       "\n",
       "   Marital_Status  Product_Category_1  Product_Category_2  Product_Category_3  \\\n",
       "0               0                   3                 NaN                 NaN   \n",
       "1               0                   1                 6.0                14.0   \n",
       "2               0                  12                 NaN                 NaN   \n",
       "3               0                  12                14.0                 NaN   \n",
       "4               0                   8                 NaN                 NaN   \n",
       "\n",
       "   Purchase  B  C  \n",
       "0    8370.0  0  0  \n",
       "1   15200.0  0  0  \n",
       "2    1422.0  0  0  \n",
       "3    1057.0  0  0  \n",
       "4    7969.0  0  1  "
      ]
     },
     "execution_count": 25,
     "metadata": {},
     "output_type": "execute_result"
    }
   ],
   "source": [
    "## Dropping City_category\n",
    "\n",
    "df = pd.concat([df,df_city], axis=1)\n",
    "df.drop(columns='City_Category',axis=1,inplace=True)\n",
    "df.head()"
   ]
  },
  {
   "cell_type": "code",
   "execution_count": 26,
   "id": "d52f2492-510e-4a24-9d0c-9da16918b467",
   "metadata": {
    "tags": []
   },
   "outputs": [
    {
     "name": "stdout",
     "output_type": "stream",
     "text": [
      "<class 'pandas.core.frame.DataFrame'>\n",
      "Int64Index: 783667 entries, 0 to 233598\n",
      "Data columns (total 2 columns):\n",
      " #   Column  Non-Null Count   Dtype\n",
      "---  ------  --------------   -----\n",
      " 0   B       783667 non-null  int64\n",
      " 1   C       783667 non-null  int64\n",
      "dtypes: int64(2)\n",
      "memory usage: 17.9 MB\n"
     ]
    }
   ],
   "source": [
    "df_city['B'] = df_city['B'].astype(np.int64)\n",
    "df_city['C'] = df_city['C'].astype(np.int64)\n",
    "df_city.info()"
   ]
  },
  {
   "cell_type": "code",
   "execution_count": null,
   "id": "6fad5c62-a924-46b2-b18d-3dfd53cabdba",
   "metadata": {},
   "outputs": [],
   "source": []
  },
  {
   "cell_type": "markdown",
   "id": "acec1028-f373-44fc-adba-539eb151e233",
   "metadata": {},
   "source": [
    "#### ##Working with another Categorical Value Stay_In_Current_City_Years "
   ]
  },
  {
   "cell_type": "code",
   "execution_count": 27,
   "id": "28612d68-5911-4a92-b102-2c429827e166",
   "metadata": {
    "tags": []
   },
   "outputs": [
    {
     "data": {
      "text/plain": [
       "array(['2', '4+', '3', '1', '0'], dtype=object)"
      ]
     },
     "execution_count": 27,
     "metadata": {},
     "output_type": "execute_result"
    }
   ],
   "source": [
    "df.Stay_In_Current_City_Years.unique()"
   ]
  },
  {
   "cell_type": "code",
   "execution_count": 28,
   "id": "bc5918b6-29ea-41c7-b74b-4fc071b9c079",
   "metadata": {
    "tags": []
   },
   "outputs": [
    {
     "data": {
      "text/plain": [
       "array(['2', '4', '3', '1', '0'], dtype=object)"
      ]
     },
     "execution_count": 28,
     "metadata": {},
     "output_type": "execute_result"
    }
   ],
   "source": [
    "## Replacing '4+' to 4\n",
    "\n",
    "df.Stay_In_Current_City_Years.replace('4+','4',inplace=True)\n",
    "df.Stay_In_Current_City_Years.unique()"
   ]
  },
  {
   "cell_type": "code",
   "execution_count": null,
   "id": "cbe55ef3-62b7-4f52-b132-a5ddb9b5236d",
   "metadata": {
    "tags": []
   },
   "outputs": [],
   "source": []
  },
  {
   "cell_type": "code",
   "execution_count": null,
   "id": "fa74d48b-174b-46d7-849c-f8bfd6a18007",
   "metadata": {},
   "outputs": [],
   "source": []
  },
  {
   "cell_type": "code",
   "execution_count": 29,
   "id": "f80680b0-e9b5-474d-999c-20793336355e",
   "metadata": {
    "tags": []
   },
   "outputs": [],
   "source": [
    "## Convert object into itegers\n",
    "\n",
    "df.Stay_In_Current_City_Years = df.Stay_In_Current_City_Years.astype(np.int64)\n"
   ]
  },
  {
   "cell_type": "code",
   "execution_count": 30,
   "id": "e3b4fabc-fe79-407a-8ed8-12f9dedd214c",
   "metadata": {
    "tags": []
   },
   "outputs": [
    {
     "name": "stdout",
     "output_type": "stream",
     "text": [
      "<class 'pandas.core.frame.DataFrame'>\n",
      "Int64Index: 783667 entries, 0 to 233598\n",
      "Data columns (total 12 columns):\n",
      " #   Column                      Non-Null Count   Dtype  \n",
      "---  ------                      --------------   -----  \n",
      " 0   Product_ID                  783667 non-null  object \n",
      " 1   Gender                      783667 non-null  int64  \n",
      " 2   Age                         783667 non-null  int64  \n",
      " 3   Occupation                  783667 non-null  int64  \n",
      " 4   Stay_In_Current_City_Years  783667 non-null  int64  \n",
      " 5   Marital_Status              783667 non-null  int64  \n",
      " 6   Product_Category_1          783667 non-null  int64  \n",
      " 7   Product_Category_2          537685 non-null  float64\n",
      " 8   Product_Category_3          237858 non-null  float64\n",
      " 9   Purchase                    550068 non-null  float64\n",
      " 10  B                           783667 non-null  uint8  \n",
      " 11  C                           783667 non-null  uint8  \n",
      "dtypes: float64(3), int64(6), object(1), uint8(2)\n",
      "memory usage: 67.3+ MB\n"
     ]
    }
   ],
   "source": [
    "df.info()"
   ]
  },
  {
   "cell_type": "markdown",
   "id": "69f12742-4fc7-4cc1-bacf-5f41c0d26795",
   "metadata": {},
   "source": [
    "## Handling for the missing values"
   ]
  },
  {
   "cell_type": "code",
   "execution_count": 31,
   "id": "77155663-8942-41ba-a87a-43e6825dcb31",
   "metadata": {
    "tags": []
   },
   "outputs": [
    {
     "data": {
      "text/plain": [
       "Product_ID                         0\n",
       "Gender                             0\n",
       "Age                                0\n",
       "Occupation                         0\n",
       "Stay_In_Current_City_Years         0\n",
       "Marital_Status                     0\n",
       "Product_Category_1                 0\n",
       "Product_Category_2            245982\n",
       "Product_Category_3            545809\n",
       "Purchase                      233599\n",
       "B                                  0\n",
       "C                                  0\n",
       "dtype: int64"
      ]
     },
     "execution_count": 31,
     "metadata": {},
     "output_type": "execute_result"
    }
   ],
   "source": [
    "## Purchase column has Null value becase we combine the test data set there was not purchase attributes\n",
    "\n",
    "df.isnull().sum()"
   ]
  },
  {
   "cell_type": "markdown",
   "id": "b296a72f-118a-470d-be5a-42f34e1846b1",
   "metadata": {},
   "source": [
    "#### ## Product_Category_2 replacing missing value"
   ]
  },
  {
   "cell_type": "code",
   "execution_count": 32,
   "id": "33659e6b-b91d-48f2-bd57-3c28e69ec20a",
   "metadata": {
    "tags": []
   },
   "outputs": [
    {
     "data": {
      "text/plain": [
       "array([nan,  6., 14.,  2.,  8., 15., 16., 11.,  5.,  3.,  4., 12.,  9.,\n",
       "       10., 17., 13.,  7., 18.])"
      ]
     },
     "execution_count": 32,
     "metadata": {},
     "output_type": "execute_result"
    }
   ],
   "source": [
    "## Returns the descrete value\n",
    "df.Product_Category_2.unique()"
   ]
  },
  {
   "cell_type": "code",
   "execution_count": 33,
   "id": "7c7dd065-931e-4488-b2db-14c358f476ff",
   "metadata": {
    "tags": []
   },
   "outputs": [
    {
     "data": {
      "text/plain": [
       "8.0     91317\n",
       "14.0    78834\n",
       "2.0     70498\n",
       "16.0    61687\n",
       "15.0    54114\n",
       "5.0     37165\n",
       "4.0     36705\n",
       "6.0     23575\n",
       "11.0    20230\n",
       "17.0    19104\n",
       "13.0    15054\n",
       "9.0      8177\n",
       "12.0     7801\n",
       "10.0     4420\n",
       "3.0      4123\n",
       "18.0     4027\n",
       "7.0       854\n",
       "Name: Product_Category_2, dtype: int64"
      ]
     },
     "execution_count": 33,
     "metadata": {},
     "output_type": "execute_result"
    }
   ],
   "source": [
    "df.Product_Category_2.value_counts()"
   ]
  },
  {
   "cell_type": "code",
   "execution_count": 34,
   "id": "e751d695-af34-4f32-88a1-c1cc633d5b0c",
   "metadata": {
    "tags": []
   },
   "outputs": [
    {
     "data": {
      "text/plain": [
       "8.0"
      ]
     },
     "execution_count": 34,
     "metadata": {},
     "output_type": "execute_result"
    }
   ],
   "source": [
    "df.Product_Category_2.mode()[0]"
   ]
  },
  {
   "cell_type": "code",
   "execution_count": 35,
   "id": "732cdbf5-d16c-4ce1-83af-02823a3193ea",
   "metadata": {
    "tags": []
   },
   "outputs": [],
   "source": [
    "df.Product_Category_2 = df.Product_Category_2.fillna(df.Product_Category_2.mode()[0])"
   ]
  },
  {
   "cell_type": "code",
   "execution_count": 36,
   "id": "c6b5c38a-ac85-4bf9-8c32-2eb5d851e872",
   "metadata": {
    "tags": []
   },
   "outputs": [
    {
     "data": {
      "text/plain": [
       "0"
      ]
     },
     "execution_count": 36,
     "metadata": {},
     "output_type": "execute_result"
    }
   ],
   "source": [
    "df.Product_Category_2.isnull().sum()"
   ]
  },
  {
   "cell_type": "code",
   "execution_count": null,
   "id": "acd1f737-95b5-4867-aeb3-bcdc4d2fea37",
   "metadata": {},
   "outputs": [],
   "source": []
  },
  {
   "cell_type": "markdown",
   "id": "e15f23e6-cc21-4ebf-aa91-4edba502abbf",
   "metadata": {},
   "source": [
    "#### ## Product_Category_3 replacing missing value"
   ]
  },
  {
   "cell_type": "code",
   "execution_count": 37,
   "id": "bfafcc9e-41ae-44b6-accd-10d33c976f17",
   "metadata": {
    "tags": []
   },
   "outputs": [
    {
     "data": {
      "text/plain": [
       "array([ 8.,  6., 14.,  2., 15., 16., 11.,  5.,  3.,  4., 12.,  9., 10.,\n",
       "       17., 13.,  7., 18.])"
      ]
     },
     "execution_count": 37,
     "metadata": {},
     "output_type": "execute_result"
    }
   ],
   "source": [
    "df.Product_Category_2.unique()"
   ]
  },
  {
   "cell_type": "code",
   "execution_count": 38,
   "id": "3272dbae-b7a5-4ef2-baca-78d941587dcf",
   "metadata": {
    "tags": []
   },
   "outputs": [
    {
     "data": {
      "text/plain": [
       "16.0    46469\n",
       "15.0    39968\n",
       "14.0    26283\n",
       "17.0    23818\n",
       "5.0     23799\n",
       "8.0     17861\n",
       "9.0     16532\n",
       "12.0    13115\n",
       "13.0     7849\n",
       "6.0      6888\n",
       "18.0     6621\n",
       "4.0      2691\n",
       "11.0     2585\n",
       "10.0     2501\n",
       "3.0       878\n",
       "Name: Product_Category_3, dtype: int64"
      ]
     },
     "execution_count": 38,
     "metadata": {},
     "output_type": "execute_result"
    }
   ],
   "source": [
    "df.Product_Category_3.value_counts()"
   ]
  },
  {
   "cell_type": "code",
   "execution_count": 39,
   "id": "75361cf3-b9e8-4f0c-a06d-45cefb869414",
   "metadata": {
    "tags": []
   },
   "outputs": [
    {
     "data": {
      "text/plain": [
       "16.0"
      ]
     },
     "execution_count": 39,
     "metadata": {},
     "output_type": "execute_result"
    }
   ],
   "source": [
    "df.Product_Category_3.mode()[0]"
   ]
  },
  {
   "cell_type": "code",
   "execution_count": 40,
   "id": "d67ecbe4-3339-45d5-a9e2-fd8e8826a080",
   "metadata": {
    "tags": []
   },
   "outputs": [
    {
     "data": {
      "text/plain": [
       "0"
      ]
     },
     "execution_count": 40,
     "metadata": {},
     "output_type": "execute_result"
    }
   ],
   "source": [
    "df.Product_Category_3 = df.Product_Category_3.fillna(df.Product_Category_3.mode()[0])\n",
    "df.Product_Category_3.isnull().sum()"
   ]
  },
  {
   "cell_type": "code",
   "execution_count": 41,
   "id": "5d04e4e6-9524-41b9-8fdd-1d91bd97696c",
   "metadata": {
    "tags": []
   },
   "outputs": [
    {
     "name": "stdout",
     "output_type": "stream",
     "text": [
      "<class 'pandas.core.frame.DataFrame'>\n",
      "Int64Index: 783667 entries, 0 to 233598\n",
      "Data columns (total 12 columns):\n",
      " #   Column                      Non-Null Count   Dtype  \n",
      "---  ------                      --------------   -----  \n",
      " 0   Product_ID                  783667 non-null  object \n",
      " 1   Gender                      783667 non-null  int64  \n",
      " 2   Age                         783667 non-null  int64  \n",
      " 3   Occupation                  783667 non-null  int64  \n",
      " 4   Stay_In_Current_City_Years  783667 non-null  int64  \n",
      " 5   Marital_Status              783667 non-null  int64  \n",
      " 6   Product_Category_1          783667 non-null  int64  \n",
      " 7   Product_Category_2          783667 non-null  float64\n",
      " 8   Product_Category_3          783667 non-null  float64\n",
      " 9   Purchase                    550068 non-null  float64\n",
      " 10  B                           783667 non-null  uint8  \n",
      " 11  C                           783667 non-null  uint8  \n",
      "dtypes: float64(3), int64(6), object(1), uint8(2)\n",
      "memory usage: 67.3+ MB\n"
     ]
    }
   ],
   "source": [
    "df.info()"
   ]
  },
  {
   "cell_type": "code",
   "execution_count": null,
   "id": "78926de0-4196-42e3-8f38-4db00d0f1a09",
   "metadata": {},
   "outputs": [],
   "source": []
  },
  {
   "cell_type": "code",
   "execution_count": null,
   "id": "ee3fc448-6a45-4b9e-96ec-a4dd5b2cd4ff",
   "metadata": {},
   "outputs": [],
   "source": []
  },
  {
   "cell_type": "markdown",
   "id": "e7d8cea8-3a00-49d3-9abc-2aa12211c0f7",
   "metadata": {},
   "source": [
    "## Visualization "
   ]
  },
  {
   "cell_type": "code",
   "execution_count": 42,
   "id": "8892b0fb-ceea-4a71-abc8-b9ae00c35267",
   "metadata": {
    "tags": []
   },
   "outputs": [
    {
     "data": {
      "text/plain": [
       "<Axes: xlabel='Age', ylabel='Purchase'>"
      ]
     },
     "execution_count": 42,
     "metadata": {},
     "output_type": "execute_result"
    },
    {
     "data": {
      "image/png": "[encoded data removed]",
      "text/plain": [
       "<Figure size 640x480 with 1 Axes>"
      ]
     },
     "metadata": {},
     "output_type": "display_data"
    }
   ],
   "source": [
    "## Visualization of AGE VS PURCHASE with respect of Gender.\n",
    "\n",
    "sns.barplot(x='Age',y='Purchase',hue = 'Gender', data = df)"
   ]
  },
  {
   "cell_type": "code",
   "execution_count": null,
   "id": "62764232-b6f1-4014-8226-5728a1c5fd87",
   "metadata": {},
   "outputs": [],
   "source": []
  },
  {
   "cell_type": "code",
   "execution_count": null,
   "id": "082d0892-e4c0-41d2-b7b7-b0a11618af64",
   "metadata": {},
   "outputs": [],
   "source": []
  },
  {
   "cell_type": "markdown",
   "id": "fb1b2f98-64cb-468f-ac07-32cc47c1b603",
   "metadata": {},
   "source": [
    "## Feature Scaling "
   ]
  },
  {
   "cell_type": "code",
   "execution_count": 43,
   "id": "a7d1bc06-6690-4293-aa30-e801ef4fc533",
   "metadata": {
    "tags": []
   },
   "outputs": [],
   "source": [
    "df.drop(columns='Product_ID',inplace=True)"
   ]
  },
  {
   "cell_type": "code",
   "execution_count": 44,
   "id": "ff3bbbe9-baa7-4680-84d9-20c115631e06",
   "metadata": {
    "tags": []
   },
   "outputs": [
    {
     "data": {
      "text/plain": [
       "Index(['Gender', 'Age', 'Occupation', 'Stay_In_Current_City_Years',\n",
       "       'Marital_Status', 'Product_Category_1', 'Product_Category_2',\n",
       "       'Product_Category_3', 'Purchase', 'B', 'C'],\n",
       "      dtype='object')"
      ]
     },
     "execution_count": 44,
     "metadata": {},
     "output_type": "execute_result"
    }
   ],
   "source": [
    "## DATASET FOR PREDICT WITH PURCHASE VALUE IS NULL\n",
    "\n",
    "df_test = df[df.Purchase.isnull()]\n",
    "df_test.columns"
   ]
  },
  {
   "cell_type": "code",
   "execution_count": 45,
   "id": "1aa0c6b5-482e-44cc-9415-d6c05255ae88",
   "metadata": {
    "tags": []
   },
   "outputs": [
    {
     "data": {
      "text/plain": [
       "Index(['Gender', 'Age', 'Occupation', 'Stay_In_Current_City_Years',\n",
       "       'Marital_Status', 'Product_Category_1', 'Product_Category_2',\n",
       "       'Product_Category_3', 'Purchase', 'B', 'C'],\n",
       "      dtype='object')"
      ]
     },
     "execution_count": 45,
     "metadata": {},
     "output_type": "execute_result"
    }
   ],
   "source": [
    "## DATASET FOR TRAIN AND TEST WITH PURCHASE VALUE IS NOT NULL\n",
    "\n",
    "df_train = df[~df.Purchase.isnull()]\n",
    "df_train.columns"
   ]
  },
  {
   "cell_type": "code",
   "execution_count": 46,
   "id": "6b7c7c5f-8649-4066-ad8f-d825db671dc3",
   "metadata": {
    "tags": []
   },
   "outputs": [],
   "source": [
    "X = df_train.drop(columns='Purchase')"
   ]
  },
  {
   "cell_type": "code",
   "execution_count": 47,
   "id": "9e0c879f-bf0c-4c4a-b19f-ef7638e7728b",
   "metadata": {
    "tags": []
   },
   "outputs": [],
   "source": [
    "y = df_train['Purchase']"
   ]
  },
  {
   "cell_type": "code",
   "execution_count": 48,
   "id": "d2254d77-001d-4f7d-ac02-3ff44be2a4de",
   "metadata": {
    "tags": []
   },
   "outputs": [
    {
     "data": {
      "text/plain": [
       "(550068, 10)"
      ]
     },
     "execution_count": 48,
     "metadata": {},
     "output_type": "execute_result"
    }
   ],
   "source": [
    "X.shape"
   ]
  },
  {
   "cell_type": "code",
   "execution_count": 49,
   "id": "4e7cf3d7-ec62-4800-8714-9f5c0ac28c82",
   "metadata": {
    "tags": []
   },
   "outputs": [
    {
     "data": {
      "text/plain": [
       "(550068,)"
      ]
     },
     "execution_count": 49,
     "metadata": {},
     "output_type": "execute_result"
    }
   ],
   "source": [
    "y.shape"
   ]
  },
  {
   "cell_type": "code",
   "execution_count": 50,
   "id": "6781d873-3dc3-4477-8cc2-bf48c20a616a",
   "metadata": {
    "tags": []
   },
   "outputs": [],
   "source": [
    "from sklearn.model_selection import train_test_split\n",
    "from sklearn.preprocessing import StandardScaler\n",
    "\n",
    "X_train, X_test, y_train, y_test = train_test_split(X, y, test_size=0.33, random_state=42)"
   ]
  },
  {
   "cell_type": "code",
   "execution_count": 51,
   "id": "173b703c-22ad-4d61-afa2-eefec5a3ac1c",
   "metadata": {
    "tags": []
   },
   "outputs": [],
   "source": [
    "sc = StandardScaler()\n",
    "X_train = sc.fit_transform(X_train)\n",
    "X_test = sc.transform(X_test)"
   ]
  },
  {
   "cell_type": "code",
   "execution_count": null,
   "id": "531cfd0c-35d7-4dd2-b206-d21c196716f5",
   "metadata": {},
   "outputs": [],
   "source": []
  },
  {
   "cell_type": "code",
   "execution_count": null,
   "id": "b265a706-aad1-4eba-857c-1604e0d33e33",
   "metadata": {},
   "outputs": [],
   "source": []
  }
 ],
 "metadata": {
  "kernelspec": {
   "display_name": "Python 3 (ipykernel)",
   "language": "python",
   "name": "python3"
  },
  "language_info": {
   "codemirror_mode": {
    "name": "ipython",
    "version": 3
   },
   "file_extension": ".py",
   "mimetype": "text/x-python",
   "name": "python",
   "nbconvert_exporter": "python",
   "pygments_lexer": "ipython3",
   "version": "3.11.4"
  }
 },
 "nbformat": 4,
 "nbformat_minor": 5
}
